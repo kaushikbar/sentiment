{
 "cells": [
  {
   "cell_type": "markdown",
   "metadata": {},
   "source": [
    "# Afinn"
   ]
  },
  {
   "cell_type": "markdown",
   "metadata": {},
   "source": [
    "## Imports"
   ]
  },
  {
   "cell_type": "code",
   "execution_count": 12,
   "metadata": {
    "ExecuteTime": {
     "end_time": "2018-08-15T13:50:54.797922Z",
     "start_time": "2018-08-15T13:50:54.792997Z"
    },
    "collapsed": true
   },
   "outputs": [],
   "source": [
    "import numpy as np\n",
    "\n",
    "import nltk\n",
    "\n",
    "from afinn import Afinn"
   ]
  },
  {
   "cell_type": "markdown",
   "metadata": {},
   "source": [
    "## UDFs"
   ]
  },
  {
   "cell_type": "code",
   "execution_count": 7,
   "metadata": {
    "ExecuteTime": {
     "end_time": "2018-08-15T13:46:38.235265Z",
     "start_time": "2018-08-15T13:46:38.218433Z"
    },
    "collapsed": true
   },
   "outputs": [],
   "source": [
    "def get_sentiment_from_score(score, thr=0.05):\n",
    "    sentiment = ['Positive' if score > thr\n",
    "                 else 'Negative' if score < -thr\n",
    "                 else 'Neutral']\n",
    "    return sentiment[0]"
   ]
  },
  {
   "cell_type": "markdown",
   "metadata": {},
   "source": [
    "## Load the data"
   ]
  },
  {
   "cell_type": "code",
   "execution_count": 2,
   "metadata": {
    "ExecuteTime": {
     "end_time": "2018-08-15T13:42:19.119913Z",
     "start_time": "2018-08-15T13:42:19.098731Z"
    }
   },
   "outputs": [
    {
     "data": {
      "text/plain": [
       "'Nice and friendly place with excellent food and friendly and helpful staff. You need a car though. The children wants to go back! Playground and animals entertained them and they felt like at home. I also recommend the dinner! Great value for the price! This is the worst place you can ever imagine.'"
      ]
     },
     "execution_count": 2,
     "metadata": {},
     "output_type": "execute_result"
    }
   ],
   "source": [
    "doc = \"Nice and friendly place with excellent food and friendly and helpful staff. You need a car though. The children wants to go back! Playground and animals entertained them and they felt like at home. I also recommend the dinner! Great value for the price! This is the worst place you can ever imagine.\"\n",
    "doc"
   ]
  },
  {
   "cell_type": "markdown",
   "metadata": {},
   "source": [
    "## Preprocess"
   ]
  },
  {
   "cell_type": "markdown",
   "metadata": {},
   "source": [
    "### Initialize afinn"
   ]
  },
  {
   "cell_type": "code",
   "execution_count": 3,
   "metadata": {
    "ExecuteTime": {
     "end_time": "2018-08-15T13:42:49.637546Z",
     "start_time": "2018-08-15T13:42:49.405086Z"
    }
   },
   "outputs": [
    {
     "name": "stdout",
     "output_type": "stream",
     "text": [
      "['__class__', '__delattr__', '__dict__', '__dir__', '__doc__', '__eq__', '__format__', '__ge__', '__getattribute__', '__gt__', '__hash__', '__init__', '__init_subclass__', '__le__', '__lt__', '__module__', '__ne__', '__new__', '__reduce__', '__reduce_ex__', '__repr__', '__setattr__', '__sizeof__', '__str__', '__subclasshook__', '__weakref__', '_dict', '_pattern', '_setup_pattern_from_dict', '_setup_pattern_from_regex', '_word_pattern', 'data_dir', 'find_all', 'full_filename', 'read_word_file', 'regex_from_tokens', 'score', 'score_with_pattern', 'score_with_wordlist', 'scores', 'scores_with_pattern', 'setup_from_file', 'split']\n"
     ]
    }
   ],
   "source": [
    "analysis = Afinn()\n",
    "print(dir(analysis))"
   ]
  },
  {
   "cell_type": "markdown",
   "metadata": {
    "ExecuteTime": {
     "end_time": "2018-08-15T03:58:32.864914Z",
     "start_time": "2018-08-15T03:58:32.847342Z"
    }
   },
   "source": [
    "## Sentiments"
   ]
  },
  {
   "cell_type": "markdown",
   "metadata": {},
   "source": [
    "### Sentence-wise sentiment"
   ]
  },
  {
   "cell_type": "code",
   "execution_count": 10,
   "metadata": {
    "ExecuteTime": {
     "end_time": "2018-08-15T13:50:38.404612Z",
     "start_time": "2018-08-15T13:50:38.376009Z"
    }
   },
   "outputs": [
    {
     "name": "stdout",
     "output_type": "stream",
     "text": [
      "Nice and friendly place with excellent food and friendly and helpful staff. : 12.0 : Positive\n",
      "You need a car though. : 0.0 : Neutral\n",
      "The children wants to go back! : 0.0 : Neutral\n",
      "Playground and animals entertained them and they felt like at home. : 2.0 : Positive\n",
      "I also recommend the dinner! : 2.0 : Positive\n",
      "Great value for the price! : 3.0 : Positive\n",
      "This is the worst place you can ever imagine. : -3.0 : Negative\n"
     ]
    }
   ],
   "source": [
    "sentences = nltk.sent_tokenize(doc)\n",
    "\n",
    "overall_sentiment = []\n",
    "\n",
    "for sentence in sentences:\n",
    "    sentiment = analysis.score(sentence)\n",
    "    print(sentence, \":\", sentiment, \":\", get_sentiment_from_score(sentiment, thr=0.05)) \n",
    "    overall_sentiment.append(sentiment)"
   ]
  },
  {
   "cell_type": "markdown",
   "metadata": {},
   "source": [
    "### Overall sentiment"
   ]
  },
  {
   "cell_type": "code",
   "execution_count": 13,
   "metadata": {
    "ExecuteTime": {
     "end_time": "2018-08-15T13:50:58.196304Z",
     "start_time": "2018-08-15T13:50:58.182163Z"
    }
   },
   "outputs": [
    {
     "name": "stdout",
     "output_type": "stream",
     "text": [
      "2.28571428571 : Positive\n"
     ]
    }
   ],
   "source": [
    "overall_sentiment = np.mean(overall_sentiment)\n",
    "print(overall_sentiment, \":\", get_sentiment_from_score(overall_sentiment, thr=0.05))"
   ]
  },
  {
   "cell_type": "markdown",
   "metadata": {},
   "source": [
    "### Some cool stuff"
   ]
  },
  {
   "cell_type": "markdown",
   "metadata": {},
   "source": [
    "#### Danish"
   ]
  },
  {
   "cell_type": "code",
   "execution_count": 14,
   "metadata": {
    "ExecuteTime": {
     "end_time": "2018-08-15T13:54:14.191975Z",
     "start_time": "2018-08-15T13:54:13.955178Z"
    }
   },
   "outputs": [
    {
     "name": "stdout",
     "output_type": "stream",
     "text": [
      "Hvis ikke det er det mest afskyelige flueknepperi... : -6.0 : Negative\n"
     ]
    }
   ],
   "source": [
    "analysis = Afinn(language='da')\n",
    "sentence = 'Hvis ikke det er det mest afskyelige flueknepperi...'\n",
    "sentiment = analysis.score(sentence)\n",
    "print(sentence, \":\", sentiment, \":\", get_sentiment_from_score(sentiment, thr=0.05)) "
   ]
  },
  {
   "cell_type": "markdown",
   "metadata": {},
   "source": [
    "#### Emoticons"
   ]
  },
  {
   "cell_type": "code",
   "execution_count": 21,
   "metadata": {
    "ExecuteTime": {
     "end_time": "2018-08-15T13:56:46.412513Z",
     "start_time": "2018-08-15T13:56:46.360687Z"
    }
   },
   "outputs": [
    {
     "name": "stdout",
     "output_type": "stream",
     "text": [
      "I saw that yesterday :( : -2.0 : Negative\n"
     ]
    }
   ],
   "source": [
    "analysis = Afinn(emoticons=True)\n",
    "sentence = 'I saw that yesterday :('\n",
    "sentiment = analysis.score(sentence)\n",
    "print(sentence, \":\", sentiment, \":\", get_sentiment_from_score(sentiment, thr=0.05)) "
   ]
  },
  {
   "cell_type": "code",
   "execution_count": null,
   "metadata": {
    "collapsed": true
   },
   "outputs": [],
   "source": []
  }
 ],
 "metadata": {
  "kernelspec": {
   "display_name": "Python 3",
   "language": "python",
   "name": "python3"
  },
  "language_info": {
   "codemirror_mode": {
    "name": "ipython",
    "version": 3
   },
   "file_extension": ".py",
   "mimetype": "text/x-python",
   "name": "python",
   "nbconvert_exporter": "python",
   "pygments_lexer": "ipython3",
   "version": "3.6.4"
  },
  "toc": {
   "base_numbering": 1,
   "nav_menu": {},
   "number_sections": true,
   "sideBar": true,
   "skip_h1_title": false,
   "title_cell": "Table of Contents",
   "title_sidebar": "Contents",
   "toc_cell": false,
   "toc_position": {
    "height": "calc(100% - 180px)",
    "left": "10px",
    "top": "150px",
    "width": "230px"
   },
   "toc_section_display": true,
   "toc_window_display": true
  },
  "varInspector": {
   "cols": {
    "lenName": 16,
    "lenType": 16,
    "lenVar": 40
   },
   "kernels_config": {
    "python": {
     "delete_cmd_postfix": "",
     "delete_cmd_prefix": "del ",
     "library": "var_list.py",
     "varRefreshCmd": "print(var_dic_list())"
    },
    "r": {
     "delete_cmd_postfix": ") ",
     "delete_cmd_prefix": "rm(",
     "library": "var_list.r",
     "varRefreshCmd": "cat(var_dic_list()) "
    }
   },
   "types_to_exclude": [
    "module",
    "function",
    "builtin_function_or_method",
    "instance",
    "_Feature"
   ],
   "window_display": false
  }
 },
 "nbformat": 4,
 "nbformat_minor": 2
}
