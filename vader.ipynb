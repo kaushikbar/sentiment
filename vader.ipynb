{
 "cells": [
  {
   "cell_type": "markdown",
   "metadata": {},
   "source": [
    "# Vader"
   ]
  },
  {
   "cell_type": "markdown",
   "metadata": {},
   "source": [
    "## Imports"
   ]
  },
  {
   "cell_type": "code",
   "execution_count": 1,
   "metadata": {
    "ExecuteTime": {
     "end_time": "2018-08-15T13:11:24.398256Z",
     "start_time": "2018-08-15T13:11:23.786354Z"
    },
    "collapsed": true
   },
   "outputs": [],
   "source": [
    "import nltk\n",
    "\n",
    "from vaderSentiment.vaderSentiment import SentimentIntensityAnalyzer"
   ]
  },
  {
   "cell_type": "markdown",
   "metadata": {},
   "source": [
    "## UDFs"
   ]
  },
  {
   "cell_type": "code",
   "execution_count": 2,
   "metadata": {
    "ExecuteTime": {
     "end_time": "2018-08-15T13:11:24.403543Z",
     "start_time": "2018-08-15T13:11:24.399518Z"
    }
   },
   "outputs": [],
   "source": [
    "def get_sentiment_from_score(vs, thr=0.05):\n",
    "    sentiment = ['Neutral' if vs['compound'] > -thr and vs['compound'] < thr\n",
    "                 else 'Positive' if vs['neg'] < thr and vs['pos'] - vs['neg'] > thr\n",
    "                 else 'Negative' if vs['pos'] < thr and vs['neg'] - vs['pos'] > thr\n",
    "                 else 'Neutral']\n",
    "    return sentiment[0]"
   ]
  },
  {
   "cell_type": "markdown",
   "metadata": {},
   "source": [
    "## Load the data"
   ]
  },
  {
   "cell_type": "code",
   "execution_count": 3,
   "metadata": {
    "ExecuteTime": {
     "end_time": "2018-08-15T13:11:24.588781Z",
     "start_time": "2018-08-15T13:11:24.405977Z"
    }
   },
   "outputs": [
    {
     "data": {
      "text/plain": [
       "'Nice and friendly place with excellent food and friendly and helpful staff. You need a car though. The children wants to go back! Playground and animals entertained them and they felt like at home. I also recommend the dinner! Great value for the price! This is the worst place you can ever imagine.'"
      ]
     },
     "execution_count": 3,
     "metadata": {},
     "output_type": "execute_result"
    }
   ],
   "source": [
    "doc = \"Nice and friendly place with excellent food and friendly and helpful staff. You need a car though. The children wants to go back! Playground and animals entertained them and they felt like at home. I also recommend the dinner! Great value for the price! This is the worst place you can ever imagine.\"\n",
    "doc"
   ]
  },
  {
   "cell_type": "markdown",
   "metadata": {},
   "source": [
    "## Preprocess"
   ]
  },
  {
   "cell_type": "markdown",
   "metadata": {},
   "source": [
    "### Initialize vader"
   ]
  },
  {
   "cell_type": "code",
   "execution_count": 4,
   "metadata": {
    "ExecuteTime": {
     "end_time": "2018-08-15T13:11:24.782604Z",
     "start_time": "2018-08-15T13:11:24.591668Z"
    }
   },
   "outputs": [
    {
     "name": "stdout",
     "output_type": "stream",
     "text": [
      "['__class__', '__delattr__', '__dict__', '__dir__', '__doc__', '__eq__', '__format__', '__ge__', '__getattribute__', '__gt__', '__hash__', '__init__', '__init_subclass__', '__le__', '__lt__', '__module__', '__ne__', '__new__', '__reduce__', '__reduce_ex__', '__repr__', '__setattr__', '__sizeof__', '__str__', '__subclasshook__', '__weakref__', '_amplify_ep', '_amplify_qm', '_but_check', '_least_check', '_negation_check', '_punctuation_emphasis', '_sentiment_laden_idioms_check', '_sift_sentiment_scores', '_special_idioms_check', 'emoji_full_filepath', 'emojis', 'lexicon', 'lexicon_full_filepath', 'make_emoji_dict', 'make_lex_dict', 'polarity_scores', 'score_valence', 'sentiment_valence']\n"
     ]
    }
   ],
   "source": [
    "analysis = SentimentIntensityAnalyzer()\n",
    "print(dir(analysis))"
   ]
  },
  {
   "cell_type": "markdown",
   "metadata": {
    "ExecuteTime": {
     "end_time": "2018-08-15T03:58:32.864914Z",
     "start_time": "2018-08-15T03:58:32.847342Z"
    }
   },
   "source": [
    "## Sentiments"
   ]
  },
  {
   "cell_type": "markdown",
   "metadata": {},
   "source": [
    "### Overall sentiment"
   ]
  },
  {
   "cell_type": "code",
   "execution_count": 5,
   "metadata": {
    "ExecuteTime": {
     "end_time": "2018-08-15T13:11:24.897436Z",
     "start_time": "2018-08-15T13:11:24.784745Z"
    }
   },
   "outputs": [
    {
     "name": "stdout",
     "output_type": "stream",
     "text": [
      "{'neg': 0.055, 'neu': 0.534, 'pos': 0.411, 'compound': 0.9768} : Neutral\n"
     ]
    }
   ],
   "source": [
    "vs = analysis.polarity_scores(doc)\n",
    "print(vs, \":\", get_sentiment_from_score(vs, thr=0.05))"
   ]
  },
  {
   "cell_type": "markdown",
   "metadata": {},
   "source": [
    "### Sentence-wise sentiment"
   ]
  },
  {
   "cell_type": "code",
   "execution_count": 6,
   "metadata": {
    "ExecuteTime": {
     "end_time": "2018-08-15T13:11:25.047975Z",
     "start_time": "2018-08-15T13:11:24.899717Z"
    }
   },
   "outputs": [
    {
     "name": "stdout",
     "output_type": "stream",
     "text": [
      "Nice and friendly place with excellent food and friendly and helpful staff. : {'neg': 0.0, 'neu': 0.308, 'pos': 0.692, 'compound': 0.9403} : Positive\n",
      "You need a car though. : {'neg': 0.0, 'neu': 1.0, 'pos': 0.0, 'compound': 0.0} : Neutral\n",
      "The children wants to go back! : {'neg': 0.0, 'neu': 1.0, 'pos': 0.0, 'compound': 0.0} : Neutral\n",
      "Playground and animals entertained them and they felt like at home. : {'neg': 0.0, 'neu': 0.634, 'pos': 0.366, 'compound': 0.6369} : Positive\n",
      "I also recommend the dinner! : {'neg': 0.0, 'neu': 0.518, 'pos': 0.482, 'compound': 0.4199} : Positive\n",
      "Great value for the price! : {'neg': 0.0, 'neu': 0.306, 'pos': 0.694, 'compound': 0.7777} : Positive\n",
      "This is the worst place you can ever imagine. : {'neg': 0.339, 'neu': 0.661, 'pos': 0.0, 'compound': -0.6249} : Negative\n"
     ]
    }
   ],
   "source": [
    "sentences = nltk.sent_tokenize(doc)\n",
    "\n",
    "for sentence in sentences:\n",
    "    vs = analysis.polarity_scores(sentence)\n",
    "    print(sentence, \":\", vs, \":\", get_sentiment_from_score(vs, thr=0.05)) "
   ]
  },
  {
   "cell_type": "code",
   "execution_count": null,
   "metadata": {
    "collapsed": true
   },
   "outputs": [],
   "source": []
  }
 ],
 "metadata": {
  "kernelspec": {
   "display_name": "Python 3",
   "language": "python",
   "name": "python3"
  },
  "language_info": {
   "codemirror_mode": {
    "name": "ipython",
    "version": 3
   },
   "file_extension": ".py",
   "mimetype": "text/x-python",
   "name": "python",
   "nbconvert_exporter": "python",
   "pygments_lexer": "ipython3",
   "version": "3.6.1"
  },
  "toc": {
   "nav_menu": {},
   "number_sections": true,
   "sideBar": true,
   "skip_h1_title": false,
   "title_cell": "Table of Contents",
   "title_sidebar": "Contents",
   "toc_cell": false,
   "toc_position": {
    "height": "calc(100% - 180px)",
    "left": "10px",
    "top": "150px",
    "width": "230px"
   },
   "toc_section_display": true,
   "toc_window_display": true
  },
  "varInspector": {
   "cols": {
    "lenName": 16,
    "lenType": 16,
    "lenVar": 40
   },
   "kernels_config": {
    "python": {
     "delete_cmd_postfix": "",
     "delete_cmd_prefix": "del ",
     "library": "var_list.py",
     "varRefreshCmd": "print(var_dic_list())"
    },
    "r": {
     "delete_cmd_postfix": ") ",
     "delete_cmd_prefix": "rm(",
     "library": "var_list.r",
     "varRefreshCmd": "cat(var_dic_list()) "
    }
   },
   "types_to_exclude": [
    "module",
    "function",
    "builtin_function_or_method",
    "instance",
    "_Feature"
   ],
   "window_display": false
  }
 },
 "nbformat": 4,
 "nbformat_minor": 2
}
