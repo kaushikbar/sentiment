{
 "cells": [
  {
   "cell_type": "markdown",
   "metadata": {},
   "source": [
    "# Sentiwordnet"
   ]
  },
  {
   "cell_type": "markdown",
   "metadata": {},
   "source": [
    "## Imports"
   ]
  },
  {
   "cell_type": "code",
   "execution_count": 1,
   "metadata": {
    "ExecuteTime": {
     "end_time": "2018-08-15T04:42:25.086551Z",
     "start_time": "2018-08-15T04:42:24.430875Z"
    },
    "collapsed": true
   },
   "outputs": [],
   "source": [
    "import numpy as np\n",
    "\n",
    "import nltk\n",
    "from nltk.corpus import sentiwordnet as swn"
   ]
  },
  {
   "cell_type": "markdown",
   "metadata": {},
   "source": [
    "## UDFs"
   ]
  },
  {
   "cell_type": "code",
   "execution_count": 12,
   "metadata": {
    "ExecuteTime": {
     "end_time": "2018-08-15T04:47:53.847153Z",
     "start_time": "2018-08-15T04:47:53.828917Z"
    },
    "collapsed": true
   },
   "outputs": [],
   "source": [
    "def get_sentiment_from_score(score, thr=0.01):\n",
    "    sentiment = ['Positive' if score > thr\n",
    "                 else 'Negative' if score < -thr\n",
    "                 else 'Neutral']\n",
    "    return sentiment[0]"
   ]
  },
  {
   "cell_type": "markdown",
   "metadata": {},
   "source": [
    "## Load the data"
   ]
  },
  {
   "cell_type": "code",
   "execution_count": 2,
   "metadata": {
    "ExecuteTime": {
     "end_time": "2018-08-15T04:42:25.096344Z",
     "start_time": "2018-08-15T04:42:25.087828Z"
    }
   },
   "outputs": [
    {
     "data": {
      "text/plain": [
       "'Nice and friendly place with excellent food and friendly and helpful staff. You need a car though. The children wants to go back! Playground and animals entertained them and they felt like at home. I also recommend the dinner! Great value for the price!'"
      ]
     },
     "execution_count": 2,
     "metadata": {},
     "output_type": "execute_result"
    }
   ],
   "source": [
    "doc = \"Nice and friendly place with excellent food and friendly and helpful staff. You need a car though. The children wants to go back! Playground and animals entertained them and they felt like at home. I also recommend the dinner! Great value for the price!\"\n",
    "doc"
   ]
  },
  {
   "cell_type": "markdown",
   "metadata": {},
   "source": [
    "## Preprocess"
   ]
  },
  {
   "cell_type": "markdown",
   "metadata": {},
   "source": [
    "### Sentences"
   ]
  },
  {
   "cell_type": "code",
   "execution_count": 3,
   "metadata": {
    "ExecuteTime": {
     "end_time": "2018-08-15T04:42:25.279944Z",
     "start_time": "2018-08-15T04:42:25.097541Z"
    }
   },
   "outputs": [
    {
     "data": {
      "text/plain": [
       "['Nice and friendly place with excellent food and friendly and helpful staff.',\n",
       " 'You need a car though.',\n",
       " 'The children wants to go back!',\n",
       " 'Playground and animals entertained them and they felt like at home.',\n",
       " 'I also recommend the dinner!',\n",
       " 'Great value for the price!']"
      ]
     },
     "execution_count": 3,
     "metadata": {},
     "output_type": "execute_result"
    }
   ],
   "source": [
    "sentences = nltk.sent_tokenize(doc)\n",
    "sentences"
   ]
  },
  {
   "cell_type": "markdown",
   "metadata": {},
   "source": [
    "### Tokenized sentences"
   ]
  },
  {
   "cell_type": "code",
   "execution_count": 4,
   "metadata": {
    "ExecuteTime": {
     "end_time": "2018-08-15T04:42:25.373030Z",
     "start_time": "2018-08-15T04:42:25.281970Z"
    }
   },
   "outputs": [
    {
     "data": {
      "text/plain": [
       "[['Nice',\n",
       "  'and',\n",
       "  'friendly',\n",
       "  'place',\n",
       "  'with',\n",
       "  'excellent',\n",
       "  'food',\n",
       "  'and',\n",
       "  'friendly',\n",
       "  'and',\n",
       "  'helpful',\n",
       "  'staff',\n",
       "  '.'],\n",
       " ['You', 'need', 'a', 'car', 'though', '.'],\n",
       " ['The', 'children', 'wants', 'to', 'go', 'back', '!'],\n",
       " ['Playground',\n",
       "  'and',\n",
       "  'animals',\n",
       "  'entertained',\n",
       "  'them',\n",
       "  'and',\n",
       "  'they',\n",
       "  'felt',\n",
       "  'like',\n",
       "  'at',\n",
       "  'home',\n",
       "  '.'],\n",
       " ['I', 'also', 'recommend', 'the', 'dinner', '!'],\n",
       " ['Great', 'value', 'for', 'the', 'price', '!']]"
      ]
     },
     "execution_count": 4,
     "metadata": {},
     "output_type": "execute_result"
    }
   ],
   "source": [
    "stokens = [nltk.word_tokenize(sent) for sent in sentences]\n",
    "stokens"
   ]
  },
  {
   "cell_type": "markdown",
   "metadata": {},
   "source": [
    "### Part of speech tagging"
   ]
  },
  {
   "cell_type": "code",
   "execution_count": 5,
   "metadata": {
    "ExecuteTime": {
     "end_time": "2018-08-15T04:42:25.615290Z",
     "start_time": "2018-08-15T04:42:25.374632Z"
    }
   },
   "outputs": [
    {
     "data": {
      "text/plain": [
       "[[('Nice', 'NNP'),\n",
       "  ('and', 'CC'),\n",
       "  ('friendly', 'JJ'),\n",
       "  ('place', 'NN'),\n",
       "  ('with', 'IN'),\n",
       "  ('excellent', 'JJ'),\n",
       "  ('food', 'NN'),\n",
       "  ('and', 'CC'),\n",
       "  ('friendly', 'JJ'),\n",
       "  ('and', 'CC'),\n",
       "  ('helpful', 'JJ'),\n",
       "  ('staff', 'NN'),\n",
       "  ('.', '.')],\n",
       " [('You', 'PRP'),\n",
       "  ('need', 'VBP'),\n",
       "  ('a', 'DT'),\n",
       "  ('car', 'NN'),\n",
       "  ('though', 'NN'),\n",
       "  ('.', '.')],\n",
       " [('The', 'DT'),\n",
       "  ('children', 'NNS'),\n",
       "  ('wants', 'VBZ'),\n",
       "  ('to', 'TO'),\n",
       "  ('go', 'VB'),\n",
       "  ('back', 'RB'),\n",
       "  ('!', '.')],\n",
       " [('Playground', 'NN'),\n",
       "  ('and', 'CC'),\n",
       "  ('animals', 'NNS'),\n",
       "  ('entertained', 'VBD'),\n",
       "  ('them', 'PRP'),\n",
       "  ('and', 'CC'),\n",
       "  ('they', 'PRP'),\n",
       "  ('felt', 'VBD'),\n",
       "  ('like', 'IN'),\n",
       "  ('at', 'IN'),\n",
       "  ('home', 'NN'),\n",
       "  ('.', '.')],\n",
       " [('I', 'PRP'),\n",
       "  ('also', 'RB'),\n",
       "  ('recommend', 'VBP'),\n",
       "  ('the', 'DT'),\n",
       "  ('dinner', 'NN'),\n",
       "  ('!', '.')],\n",
       " [('Great', 'NNP'),\n",
       "  ('value', 'NN'),\n",
       "  ('for', 'IN'),\n",
       "  ('the', 'DT'),\n",
       "  ('price', 'NN'),\n",
       "  ('!', '.')]]"
      ]
     },
     "execution_count": 5,
     "metadata": {},
     "output_type": "execute_result"
    }
   ],
   "source": [
    "taggedlist=[]\n",
    "\n",
    "for stoken in stokens:        \n",
    "    taggedlist.append(nltk.pos_tag(stoken))\n",
    "    \n",
    "taggedlist"
   ]
  },
  {
   "cell_type": "markdown",
   "metadata": {},
   "source": [
    "#### Simplify POS tagging\n",
    "\n",
    "- n - NOUN \n",
    "- v - VERB \n",
    "- a - ADJECTIVE  \n",
    "- r - ADVERB"
   ]
  },
  {
   "cell_type": "code",
   "execution_count": 6,
   "metadata": {
    "ExecuteTime": {
     "end_time": "2018-08-15T04:42:25.653172Z",
     "start_time": "2018-08-15T04:42:25.617451Z"
    }
   },
   "outputs": [
    {
     "data": {
      "text/plain": [
       "[[('Nice', 'n'),\n",
       "  ('and', ''),\n",
       "  ('friendly', 'a'),\n",
       "  ('place', 'n'),\n",
       "  ('with', ''),\n",
       "  ('excellent', 'a'),\n",
       "  ('food', 'n'),\n",
       "  ('and', ''),\n",
       "  ('friendly', 'a'),\n",
       "  ('and', ''),\n",
       "  ('helpful', 'a'),\n",
       "  ('staff', 'n'),\n",
       "  ('.', '')],\n",
       " [('You', ''),\n",
       "  ('need', 'v'),\n",
       "  ('a', ''),\n",
       "  ('car', 'n'),\n",
       "  ('though', 'n'),\n",
       "  ('.', '')],\n",
       " [('The', ''),\n",
       "  ('children', 'n'),\n",
       "  ('wants', 'v'),\n",
       "  ('to', ''),\n",
       "  ('go', 'v'),\n",
       "  ('back', 'r'),\n",
       "  ('!', '')],\n",
       " [('Playground', 'n'),\n",
       "  ('and', ''),\n",
       "  ('animals', 'n'),\n",
       "  ('entertained', 'v'),\n",
       "  ('them', ''),\n",
       "  ('and', ''),\n",
       "  ('they', ''),\n",
       "  ('felt', 'v'),\n",
       "  ('like', ''),\n",
       "  ('at', ''),\n",
       "  ('home', 'n'),\n",
       "  ('.', '')],\n",
       " [('I', ''),\n",
       "  ('also', 'r'),\n",
       "  ('recommend', 'v'),\n",
       "  ('the', ''),\n",
       "  ('dinner', 'n'),\n",
       "  ('!', '')],\n",
       " [('Great', 'n'),\n",
       "  ('value', 'n'),\n",
       "  ('for', ''),\n",
       "  ('the', ''),\n",
       "  ('price', 'n'),\n",
       "  ('!', '')]]"
      ]
     },
     "execution_count": 6,
     "metadata": {},
     "output_type": "execute_result"
    }
   ],
   "source": [
    "for _, sentence_taggedlist in enumerate(taggedlist):\n",
    "    for idx, t in enumerate(sentence_taggedlist):\n",
    "        newtag=''\n",
    "        \n",
    "        lst = list(t)\n",
    "        if lst[1].startswith('NN'):\n",
    "            newtag='n'\n",
    "        elif lst[1].startswith('JJ'):\n",
    "            newtag='a'\n",
    "        elif lst[1].startswith('V'):\n",
    "            newtag='v'\n",
    "        elif lst[1].startswith('R'):\n",
    "            newtag='r'\n",
    "        else:\n",
    "            newtag=''\n",
    "        \n",
    "        lst[1] = newtag\n",
    "\n",
    "        sentence_taggedlist[idx] = tuple(lst)\n",
    "        \n",
    "taggedlist"
   ]
  },
  {
   "cell_type": "markdown",
   "metadata": {},
   "source": [
    "### Lemmatize"
   ]
  },
  {
   "cell_type": "code",
   "execution_count": 7,
   "metadata": {
    "ExecuteTime": {
     "end_time": "2018-08-15T04:42:27.524674Z",
     "start_time": "2018-08-15T04:42:25.654752Z"
    }
   },
   "outputs": [
    {
     "data": {
      "text/plain": [
       "[[('Nice', 'n'),\n",
       "  ('and', ''),\n",
       "  ('friendly', 'a'),\n",
       "  ('place', 'n'),\n",
       "  ('with', ''),\n",
       "  ('excellent', 'a'),\n",
       "  ('food', 'n'),\n",
       "  ('and', ''),\n",
       "  ('friendly', 'a'),\n",
       "  ('and', ''),\n",
       "  ('helpful', 'a'),\n",
       "  ('staff', 'n'),\n",
       "  ('.', '')],\n",
       " [('You', ''),\n",
       "  ('need', 'v'),\n",
       "  ('a', ''),\n",
       "  ('car', 'n'),\n",
       "  ('though', 'n'),\n",
       "  ('.', '')],\n",
       " [('The', ''),\n",
       "  ('child', 'n'),\n",
       "  ('want', 'v'),\n",
       "  ('to', ''),\n",
       "  ('go', 'v'),\n",
       "  ('back', 'r'),\n",
       "  ('!', '')],\n",
       " [('Playground', 'n'),\n",
       "  ('and', ''),\n",
       "  ('animal', 'n'),\n",
       "  ('entertained', 'v'),\n",
       "  ('them', ''),\n",
       "  ('and', ''),\n",
       "  ('they', ''),\n",
       "  ('felt', 'v'),\n",
       "  ('like', ''),\n",
       "  ('at', ''),\n",
       "  ('home', 'n'),\n",
       "  ('.', '')],\n",
       " [('I', ''),\n",
       "  ('also', 'r'),\n",
       "  ('recommend', 'v'),\n",
       "  ('the', ''),\n",
       "  ('dinner', 'n'),\n",
       "  ('!', '')],\n",
       " [('Great', 'n'),\n",
       "  ('value', 'n'),\n",
       "  ('for', ''),\n",
       "  ('the', ''),\n",
       "  ('price', 'n'),\n",
       "  ('!', '')]]"
      ]
     },
     "execution_count": 7,
     "metadata": {},
     "output_type": "execute_result"
    }
   ],
   "source": [
    "wnl = nltk.WordNetLemmatizer()\n",
    "\n",
    "for _, sentence_taggedlist in enumerate(taggedlist):\n",
    "    for idx, t in enumerate(sentence_taggedlist):\n",
    "        lst = list(t)\n",
    "        lst[0] = wnl.lemmatize(lst[0])\n",
    "        sentence_taggedlist[idx] = tuple(lst)\n",
    "        \n",
    "taggedlist"
   ]
  },
  {
   "cell_type": "markdown",
   "metadata": {
    "ExecuteTime": {
     "end_time": "2018-08-15T03:58:32.864914Z",
     "start_time": "2018-08-15T03:58:32.847342Z"
    }
   },
   "source": [
    "## Sentiments"
   ]
  },
  {
   "cell_type": "code",
   "execution_count": 8,
   "metadata": {
    "ExecuteTime": {
     "end_time": "2018-08-15T04:42:28.577511Z",
     "start_time": "2018-08-15T04:42:27.526738Z"
    },
    "collapsed": true
   },
   "outputs": [],
   "source": [
    "score_list = []\n",
    "\n",
    "for idx, sentence_taggedlist in enumerate(taggedlist):\n",
    "    score_list.append([])\n",
    "    for _, t in enumerate(sentence_taggedlist):\n",
    "        lst = list(t)\n",
    "        if lst[1] != '':    \n",
    "            synsets = list(swn.senti_synsets(lst[0], lst[1]))\n",
    "            \n",
    "            # Get average of all possible sentiments      \n",
    "            score = 0\n",
    "            if len(synsets) > 0:\n",
    "                for syn in synsets:\n",
    "                    score += syn.pos_score() - syn.neg_score()\n",
    "                score_list[idx].append(score/len(synsets))"
   ]
  },
  {
   "cell_type": "code",
   "execution_count": 20,
   "metadata": {
    "ExecuteTime": {
     "end_time": "2018-08-15T04:55:05.356761Z",
     "start_time": "2018-08-15T04:55:05.342287Z"
    },
    "collapsed": true
   },
   "outputs": [],
   "source": [
    "sentence_sentiment = []\n",
    "\n",
    "for score_sent in score_list:\n",
    "    sentence_sentiment.append(np.mean(score_sent))"
   ]
  },
  {
   "cell_type": "code",
   "execution_count": 21,
   "metadata": {
    "ExecuteTime": {
     "end_time": "2018-08-15T04:55:06.580071Z",
     "start_time": "2018-08-15T04:55:06.554065Z"
    }
   },
   "outputs": [
    {
     "name": "stdout",
     "output_type": "stream",
     "text": [
      "Nice and friendly place with excellent food and friendly and helpful staff. : 0.197916666667 : Positive\n",
      "You need a car though. : -0.0416666666667 : Negative\n",
      "The children wants to go back! : -0.0078125 : Neutral\n",
      "Playground and animals entertained them and they felt like at home. : -0.0496527777778 : Negative\n",
      "I also recommend the dinner! : 0.0833333333333 : Positive\n",
      "Great value for the price! : 0.0644841269841 : Positive\n",
      "\n",
      "Overall sentiment: 0.0411003637566 : Positive\n"
     ]
    }
   ],
   "source": [
    "for idx, sentence in enumerate(sentences):\n",
    "    print(sentence, \":\", sentence_sentiment[idx], \":\", \n",
    "          get_sentiment_from_score(sentence_sentiment[idx], thr=0.01))\n",
    "\n",
    "overall_sentiment = np.mean(sentence_sentiment)\n",
    "print(\"\\nOverall sentiment:\", overall_sentiment, \":\",\n",
    "      get_sentiment_from_score(overall_sentiment, thr=0.01))"
   ]
  },
  {
   "cell_type": "code",
   "execution_count": null,
   "metadata": {
    "collapsed": true
   },
   "outputs": [],
   "source": []
  }
 ],
 "metadata": {
  "kernelspec": {
   "display_name": "Python 3",
   "language": "python",
   "name": "python3"
  },
  "language_info": {
   "codemirror_mode": {
    "name": "ipython",
    "version": 3
   },
   "file_extension": ".py",
   "mimetype": "text/x-python",
   "name": "python",
   "nbconvert_exporter": "python",
   "pygments_lexer": "ipython3",
   "version": "3.6.1"
  },
  "toc": {
   "nav_menu": {},
   "number_sections": true,
   "sideBar": true,
   "skip_h1_title": false,
   "title_cell": "Table of Contents",
   "title_sidebar": "Contents",
   "toc_cell": false,
   "toc_position": {
    "height": "calc(100% - 180px)",
    "left": "10px",
    "top": "150px",
    "width": "230px"
   },
   "toc_section_display": true,
   "toc_window_display": true
  },
  "varInspector": {
   "cols": {
    "lenName": 16,
    "lenType": 16,
    "lenVar": 40
   },
   "kernels_config": {
    "python": {
     "delete_cmd_postfix": "",
     "delete_cmd_prefix": "del ",
     "library": "var_list.py",
     "varRefreshCmd": "print(var_dic_list())"
    },
    "r": {
     "delete_cmd_postfix": ") ",
     "delete_cmd_prefix": "rm(",
     "library": "var_list.r",
     "varRefreshCmd": "cat(var_dic_list()) "
    }
   },
   "types_to_exclude": [
    "module",
    "function",
    "builtin_function_or_method",
    "instance",
    "_Feature"
   ],
   "window_display": false
  }
 },
 "nbformat": 4,
 "nbformat_minor": 2
}
