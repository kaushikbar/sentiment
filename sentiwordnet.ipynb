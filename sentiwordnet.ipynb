{
 "cells": [
  {
   "cell_type": "markdown",
   "metadata": {},
   "source": [
    "# Sentiwordnet"
   ]
  },
  {
   "cell_type": "markdown",
   "metadata": {},
   "source": [
    "## Imports"
   ]
  },
  {
   "cell_type": "code",
   "execution_count": 1,
   "metadata": {
    "ExecuteTime": {
     "end_time": "2018-08-15T13:31:14.737138Z",
     "start_time": "2018-08-15T13:31:14.062330Z"
    },
    "collapsed": true
   },
   "outputs": [],
   "source": [
    "import numpy as np\n",
    "\n",
    "import nltk\n",
    "from nltk.corpus import sentiwordnet as swn"
   ]
  },
  {
   "cell_type": "markdown",
   "metadata": {},
   "source": [
    "## UDFs"
   ]
  },
  {
   "cell_type": "code",
   "execution_count": 2,
   "metadata": {
    "ExecuteTime": {
     "end_time": "2018-08-15T13:31:14.741479Z",
     "start_time": "2018-08-15T13:31:14.738509Z"
    },
    "collapsed": true
   },
   "outputs": [],
   "source": [
    "def get_sentiment_from_score(score, thr=0.05):\n",
    "    sentiment = ['Positive' if score > thr\n",
    "                 else 'Negative' if score < -thr\n",
    "                 else 'Neutral']\n",
    "    return sentiment[0]"
   ]
  },
  {
   "cell_type": "markdown",
   "metadata": {},
   "source": [
    "## Load the data"
   ]
  },
  {
   "cell_type": "code",
   "execution_count": 3,
   "metadata": {
    "ExecuteTime": {
     "end_time": "2018-08-15T13:31:14.943609Z",
     "start_time": "2018-08-15T13:31:14.743267Z"
    }
   },
   "outputs": [
    {
     "data": {
      "text/plain": [
       "'Nice and friendly place with excellent food and friendly and helpful staff. You need a car though. The children wants to go back! Playground and animals entertained them and they felt like at home. I also recommend the dinner! Great value for the price! This is the worst place you can ever imagine.'"
      ]
     },
     "execution_count": 3,
     "metadata": {},
     "output_type": "execute_result"
    }
   ],
   "source": [
    "doc = \"Nice and friendly place with excellent food and friendly and helpful staff. You need a car though. The children wants to go back! Playground and animals entertained them and they felt like at home. I also recommend the dinner! Great value for the price! This is the worst place you can ever imagine.\"\n",
    "doc"
   ]
  },
  {
   "cell_type": "markdown",
   "metadata": {},
   "source": [
    "## Preprocess"
   ]
  },
  {
   "cell_type": "markdown",
   "metadata": {},
   "source": [
    "### Sentences"
   ]
  },
  {
   "cell_type": "code",
   "execution_count": 4,
   "metadata": {
    "ExecuteTime": {
     "end_time": "2018-08-15T13:31:15.114868Z",
     "start_time": "2018-08-15T13:31:14.945952Z"
    }
   },
   "outputs": [
    {
     "data": {
      "text/plain": [
       "['Nice and friendly place with excellent food and friendly and helpful staff.',\n",
       " 'You need a car though.',\n",
       " 'The children wants to go back!',\n",
       " 'Playground and animals entertained them and they felt like at home.',\n",
       " 'I also recommend the dinner!',\n",
       " 'Great value for the price!',\n",
       " 'This is the worst place you can ever imagine.']"
      ]
     },
     "execution_count": 4,
     "metadata": {},
     "output_type": "execute_result"
    }
   ],
   "source": [
    "sentences = nltk.sent_tokenize(doc)\n",
    "sentences"
   ]
  },
  {
   "cell_type": "markdown",
   "metadata": {},
   "source": [
    "### Tokenized sentences"
   ]
  },
  {
   "cell_type": "code",
   "execution_count": 5,
   "metadata": {
    "ExecuteTime": {
     "end_time": "2018-08-15T13:31:15.266314Z",
     "start_time": "2018-08-15T13:31:15.116995Z"
    }
   },
   "outputs": [
    {
     "data": {
      "text/plain": [
       "[['Nice',\n",
       "  'and',\n",
       "  'friendly',\n",
       "  'place',\n",
       "  'with',\n",
       "  'excellent',\n",
       "  'food',\n",
       "  'and',\n",
       "  'friendly',\n",
       "  'and',\n",
       "  'helpful',\n",
       "  'staff',\n",
       "  '.'],\n",
       " ['You', 'need', 'a', 'car', 'though', '.'],\n",
       " ['The', 'children', 'wants', 'to', 'go', 'back', '!'],\n",
       " ['Playground',\n",
       "  'and',\n",
       "  'animals',\n",
       "  'entertained',\n",
       "  'them',\n",
       "  'and',\n",
       "  'they',\n",
       "  'felt',\n",
       "  'like',\n",
       "  'at',\n",
       "  'home',\n",
       "  '.'],\n",
       " ['I', 'also', 'recommend', 'the', 'dinner', '!'],\n",
       " ['Great', 'value', 'for', 'the', 'price', '!'],\n",
       " ['This', 'is', 'the', 'worst', 'place', 'you', 'can', 'ever', 'imagine', '.']]"
      ]
     },
     "execution_count": 5,
     "metadata": {},
     "output_type": "execute_result"
    }
   ],
   "source": [
    "stokens = [nltk.word_tokenize(sent) for sent in sentences]\n",
    "stokens"
   ]
  },
  {
   "cell_type": "markdown",
   "metadata": {},
   "source": [
    "### Part of speech tagging"
   ]
  },
  {
   "cell_type": "code",
   "execution_count": 6,
   "metadata": {
    "ExecuteTime": {
     "end_time": "2018-08-15T13:31:15.541723Z",
     "start_time": "2018-08-15T13:31:15.268525Z"
    }
   },
   "outputs": [
    {
     "data": {
      "text/plain": [
       "[[('Nice', 'NNP'),\n",
       "  ('and', 'CC'),\n",
       "  ('friendly', 'JJ'),\n",
       "  ('place', 'NN'),\n",
       "  ('with', 'IN'),\n",
       "  ('excellent', 'JJ'),\n",
       "  ('food', 'NN'),\n",
       "  ('and', 'CC'),\n",
       "  ('friendly', 'JJ'),\n",
       "  ('and', 'CC'),\n",
       "  ('helpful', 'JJ'),\n",
       "  ('staff', 'NN'),\n",
       "  ('.', '.')],\n",
       " [('You', 'PRP'),\n",
       "  ('need', 'VBP'),\n",
       "  ('a', 'DT'),\n",
       "  ('car', 'NN'),\n",
       "  ('though', 'NN'),\n",
       "  ('.', '.')],\n",
       " [('The', 'DT'),\n",
       "  ('children', 'NNS'),\n",
       "  ('wants', 'VBZ'),\n",
       "  ('to', 'TO'),\n",
       "  ('go', 'VB'),\n",
       "  ('back', 'RB'),\n",
       "  ('!', '.')],\n",
       " [('Playground', 'NN'),\n",
       "  ('and', 'CC'),\n",
       "  ('animals', 'NNS'),\n",
       "  ('entertained', 'VBD'),\n",
       "  ('them', 'PRP'),\n",
       "  ('and', 'CC'),\n",
       "  ('they', 'PRP'),\n",
       "  ('felt', 'VBD'),\n",
       "  ('like', 'IN'),\n",
       "  ('at', 'IN'),\n",
       "  ('home', 'NN'),\n",
       "  ('.', '.')],\n",
       " [('I', 'PRP'),\n",
       "  ('also', 'RB'),\n",
       "  ('recommend', 'VBP'),\n",
       "  ('the', 'DT'),\n",
       "  ('dinner', 'NN'),\n",
       "  ('!', '.')],\n",
       " [('Great', 'NNP'),\n",
       "  ('value', 'NN'),\n",
       "  ('for', 'IN'),\n",
       "  ('the', 'DT'),\n",
       "  ('price', 'NN'),\n",
       "  ('!', '.')],\n",
       " [('This', 'DT'),\n",
       "  ('is', 'VBZ'),\n",
       "  ('the', 'DT'),\n",
       "  ('worst', 'JJS'),\n",
       "  ('place', 'NN'),\n",
       "  ('you', 'PRP'),\n",
       "  ('can', 'MD'),\n",
       "  ('ever', 'RB'),\n",
       "  ('imagine', 'VB'),\n",
       "  ('.', '.')]]"
      ]
     },
     "execution_count": 6,
     "metadata": {},
     "output_type": "execute_result"
    }
   ],
   "source": [
    "taggedlist=[]\n",
    "\n",
    "for stoken in stokens:        \n",
    "    taggedlist.append(nltk.pos_tag(stoken))\n",
    "    \n",
    "taggedlist"
   ]
  },
  {
   "cell_type": "markdown",
   "metadata": {},
   "source": [
    "#### Simplify POS tagging\n",
    "\n",
    "- n - NOUN \n",
    "- v - VERB \n",
    "- a - ADJECTIVE  \n",
    "- r - ADVERB"
   ]
  },
  {
   "cell_type": "code",
   "execution_count": 7,
   "metadata": {
    "ExecuteTime": {
     "end_time": "2018-08-15T13:31:15.598069Z",
     "start_time": "2018-08-15T13:31:15.543616Z"
    }
   },
   "outputs": [
    {
     "data": {
      "text/plain": [
       "[[('Nice', 'n'),\n",
       "  ('and', ''),\n",
       "  ('friendly', 'a'),\n",
       "  ('place', 'n'),\n",
       "  ('with', ''),\n",
       "  ('excellent', 'a'),\n",
       "  ('food', 'n'),\n",
       "  ('and', ''),\n",
       "  ('friendly', 'a'),\n",
       "  ('and', ''),\n",
       "  ('helpful', 'a'),\n",
       "  ('staff', 'n'),\n",
       "  ('.', '')],\n",
       " [('You', ''),\n",
       "  ('need', 'v'),\n",
       "  ('a', ''),\n",
       "  ('car', 'n'),\n",
       "  ('though', 'n'),\n",
       "  ('.', '')],\n",
       " [('The', ''),\n",
       "  ('children', 'n'),\n",
       "  ('wants', 'v'),\n",
       "  ('to', ''),\n",
       "  ('go', 'v'),\n",
       "  ('back', 'r'),\n",
       "  ('!', '')],\n",
       " [('Playground', 'n'),\n",
       "  ('and', ''),\n",
       "  ('animals', 'n'),\n",
       "  ('entertained', 'v'),\n",
       "  ('them', ''),\n",
       "  ('and', ''),\n",
       "  ('they', ''),\n",
       "  ('felt', 'v'),\n",
       "  ('like', ''),\n",
       "  ('at', ''),\n",
       "  ('home', 'n'),\n",
       "  ('.', '')],\n",
       " [('I', ''),\n",
       "  ('also', 'r'),\n",
       "  ('recommend', 'v'),\n",
       "  ('the', ''),\n",
       "  ('dinner', 'n'),\n",
       "  ('!', '')],\n",
       " [('Great', 'n'),\n",
       "  ('value', 'n'),\n",
       "  ('for', ''),\n",
       "  ('the', ''),\n",
       "  ('price', 'n'),\n",
       "  ('!', '')],\n",
       " [('This', ''),\n",
       "  ('is', 'v'),\n",
       "  ('the', ''),\n",
       "  ('worst', 'a'),\n",
       "  ('place', 'n'),\n",
       "  ('you', ''),\n",
       "  ('can', ''),\n",
       "  ('ever', 'r'),\n",
       "  ('imagine', 'v'),\n",
       "  ('.', '')]]"
      ]
     },
     "execution_count": 7,
     "metadata": {},
     "output_type": "execute_result"
    }
   ],
   "source": [
    "for _, sentence_taggedlist in enumerate(taggedlist):\n",
    "    for idx, t in enumerate(sentence_taggedlist):\n",
    "        newtag=''\n",
    "        \n",
    "        lst = list(t)\n",
    "        if lst[1].startswith('NN'):\n",
    "            newtag='n'\n",
    "        elif lst[1].startswith('JJ'):\n",
    "            newtag='a'\n",
    "        elif lst[1].startswith('V'):\n",
    "            newtag='v'\n",
    "        elif lst[1].startswith('R'):\n",
    "            newtag='r'\n",
    "        else:\n",
    "            newtag=''\n",
    "        \n",
    "        lst[1] = newtag\n",
    "\n",
    "        sentence_taggedlist[idx] = tuple(lst)\n",
    "        \n",
    "taggedlist"
   ]
  },
  {
   "cell_type": "markdown",
   "metadata": {},
   "source": [
    "### Lemmatize"
   ]
  },
  {
   "cell_type": "code",
   "execution_count": 8,
   "metadata": {
    "ExecuteTime": {
     "end_time": "2018-08-15T13:31:17.480690Z",
     "start_time": "2018-08-15T13:31:15.601386Z"
    }
   },
   "outputs": [
    {
     "data": {
      "text/plain": [
       "[[('Nice', 'n'),\n",
       "  ('and', ''),\n",
       "  ('friendly', 'a'),\n",
       "  ('place', 'n'),\n",
       "  ('with', ''),\n",
       "  ('excellent', 'a'),\n",
       "  ('food', 'n'),\n",
       "  ('and', ''),\n",
       "  ('friendly', 'a'),\n",
       "  ('and', ''),\n",
       "  ('helpful', 'a'),\n",
       "  ('staff', 'n'),\n",
       "  ('.', '')],\n",
       " [('You', ''),\n",
       "  ('need', 'v'),\n",
       "  ('a', ''),\n",
       "  ('car', 'n'),\n",
       "  ('though', 'n'),\n",
       "  ('.', '')],\n",
       " [('The', ''),\n",
       "  ('child', 'n'),\n",
       "  ('want', 'v'),\n",
       "  ('to', ''),\n",
       "  ('go', 'v'),\n",
       "  ('back', 'r'),\n",
       "  ('!', '')],\n",
       " [('Playground', 'n'),\n",
       "  ('and', ''),\n",
       "  ('animal', 'n'),\n",
       "  ('entertained', 'v'),\n",
       "  ('them', ''),\n",
       "  ('and', ''),\n",
       "  ('they', ''),\n",
       "  ('felt', 'v'),\n",
       "  ('like', ''),\n",
       "  ('at', ''),\n",
       "  ('home', 'n'),\n",
       "  ('.', '')],\n",
       " [('I', ''),\n",
       "  ('also', 'r'),\n",
       "  ('recommend', 'v'),\n",
       "  ('the', ''),\n",
       "  ('dinner', 'n'),\n",
       "  ('!', '')],\n",
       " [('Great', 'n'),\n",
       "  ('value', 'n'),\n",
       "  ('for', ''),\n",
       "  ('the', ''),\n",
       "  ('price', 'n'),\n",
       "  ('!', '')],\n",
       " [('This', ''),\n",
       "  ('is', 'v'),\n",
       "  ('the', ''),\n",
       "  ('worst', 'a'),\n",
       "  ('place', 'n'),\n",
       "  ('you', ''),\n",
       "  ('can', ''),\n",
       "  ('ever', 'r'),\n",
       "  ('imagine', 'v'),\n",
       "  ('.', '')]]"
      ]
     },
     "execution_count": 8,
     "metadata": {},
     "output_type": "execute_result"
    }
   ],
   "source": [
    "wnl = nltk.WordNetLemmatizer()\n",
    "\n",
    "for _, sentence_taggedlist in enumerate(taggedlist):\n",
    "    for idx, t in enumerate(sentence_taggedlist):\n",
    "        lst = list(t)\n",
    "        lst[0] = wnl.lemmatize(lst[0])\n",
    "        sentence_taggedlist[idx] = tuple(lst)\n",
    "        \n",
    "taggedlist"
   ]
  },
  {
   "cell_type": "markdown",
   "metadata": {
    "ExecuteTime": {
     "end_time": "2018-08-15T03:58:32.864914Z",
     "start_time": "2018-08-15T03:58:32.847342Z"
    }
   },
   "source": [
    "## Sentiments"
   ]
  },
  {
   "cell_type": "code",
   "execution_count": 9,
   "metadata": {
    "ExecuteTime": {
     "end_time": "2018-08-15T13:31:18.561477Z",
     "start_time": "2018-08-15T13:31:17.482725Z"
    },
    "collapsed": true
   },
   "outputs": [],
   "source": [
    "score_list = []\n",
    "\n",
    "for idx, sentence_taggedlist in enumerate(taggedlist):\n",
    "    score_list.append([])\n",
    "    for _, t in enumerate(sentence_taggedlist):\n",
    "        lst = list(t)\n",
    "        if lst[1] != '':    \n",
    "            synsets = list(swn.senti_synsets(lst[0], lst[1]))\n",
    "            \n",
    "            # Get average of all possible sentiments      \n",
    "            score = 0\n",
    "            if len(synsets) > 0:\n",
    "                for syn in synsets:\n",
    "                    score += syn.pos_score() - syn.neg_score()\n",
    "                score_list[idx].append(score/len(synsets))"
   ]
  },
  {
   "cell_type": "code",
   "execution_count": 10,
   "metadata": {
    "ExecuteTime": {
     "end_time": "2018-08-15T13:31:18.568000Z",
     "start_time": "2018-08-15T13:31:18.563028Z"
    },
    "collapsed": true
   },
   "outputs": [],
   "source": [
    "sentence_sentiment = []\n",
    "\n",
    "for score_sent in score_list:\n",
    "    sentence_sentiment.append(np.mean(score_sent))"
   ]
  },
  {
   "cell_type": "code",
   "execution_count": 11,
   "metadata": {
    "ExecuteTime": {
     "end_time": "2018-08-15T13:31:18.746098Z",
     "start_time": "2018-08-15T13:31:18.571313Z"
    }
   },
   "outputs": [
    {
     "name": "stdout",
     "output_type": "stream",
     "text": [
      "Nice and friendly place with excellent food and friendly and helpful staff. : 0.197916666667 : Positive\n",
      "You need a car though. : -0.0416666666667 : Neutral\n",
      "The children wants to go back! : -0.0078125 : Neutral\n",
      "Playground and animals entertained them and they felt like at home. : -0.0496527777778 : Neutral\n",
      "I also recommend the dinner! : 0.0833333333333 : Positive\n",
      "Great value for the price! : 0.0644841269841 : Positive\n",
      "This is the worst place you can ever imagine. : -0.162243589744 : Negative\n",
      "\n",
      "Overall sentiment: 0.0120512275423 : Neutral\n"
     ]
    }
   ],
   "source": [
    "for idx, sentence in enumerate(sentences):\n",
    "    print(sentence, \":\", sentence_sentiment[idx], \":\", \n",
    "          get_sentiment_from_score(sentence_sentiment[idx], thr=0.05))\n",
    "\n",
    "overall_sentiment = np.mean(sentence_sentiment)\n",
    "print(\"\\nOverall sentiment:\", overall_sentiment, \":\",\n",
    "      get_sentiment_from_score(overall_sentiment, thr=0.05))"
   ]
  },
  {
   "cell_type": "code",
   "execution_count": null,
   "metadata": {
    "collapsed": true
   },
   "outputs": [],
   "source": []
  }
 ],
 "metadata": {
  "kernelspec": {
   "display_name": "Python 3",
   "language": "python",
   "name": "python3"
  },
  "language_info": {
   "codemirror_mode": {
    "name": "ipython",
    "version": 3
   },
   "file_extension": ".py",
   "mimetype": "text/x-python",
   "name": "python",
   "nbconvert_exporter": "python",
   "pygments_lexer": "ipython3",
   "version": "3.6.1"
  },
  "toc": {
   "nav_menu": {},
   "number_sections": true,
   "sideBar": true,
   "skip_h1_title": false,
   "title_cell": "Table of Contents",
   "title_sidebar": "Contents",
   "toc_cell": false,
   "toc_position": {
    "height": "calc(100% - 180px)",
    "left": "10px",
    "top": "150px",
    "width": "230px"
   },
   "toc_section_display": true,
   "toc_window_display": true
  },
  "varInspector": {
   "cols": {
    "lenName": 16,
    "lenType": 16,
    "lenVar": 40
   },
   "kernels_config": {
    "python": {
     "delete_cmd_postfix": "",
     "delete_cmd_prefix": "del ",
     "library": "var_list.py",
     "varRefreshCmd": "print(var_dic_list())"
    },
    "r": {
     "delete_cmd_postfix": ") ",
     "delete_cmd_prefix": "rm(",
     "library": "var_list.r",
     "varRefreshCmd": "cat(var_dic_list()) "
    }
   },
   "types_to_exclude": [
    "module",
    "function",
    "builtin_function_or_method",
    "instance",
    "_Feature"
   ],
   "window_display": false
  }
 },
 "nbformat": 4,
 "nbformat_minor": 2
}
