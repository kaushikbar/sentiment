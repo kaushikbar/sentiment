{
 "cells": [
  {
   "cell_type": "markdown",
   "metadata": {},
   "source": [
    "# Textblob"
   ]
  },
  {
   "cell_type": "markdown",
   "metadata": {},
   "source": [
    "## Imports"
   ]
  },
  {
   "cell_type": "code",
   "execution_count": 1,
   "metadata": {
    "ExecuteTime": {
     "end_time": "2018-08-15T13:02:34.735061Z",
     "start_time": "2018-08-15T13:02:34.026618Z"
    },
    "collapsed": true
   },
   "outputs": [],
   "source": [
    "import random\n",
    "\n",
    "import nltk\n",
    "\n",
    "from textblob import TextBlob\n",
    "from textblob import Word"
   ]
  },
  {
   "cell_type": "markdown",
   "metadata": {},
   "source": [
    "## UDFs"
   ]
  },
  {
   "cell_type": "code",
   "execution_count": 2,
   "metadata": {
    "ExecuteTime": {
     "end_time": "2018-08-15T13:02:34.740468Z",
     "start_time": "2018-08-15T13:02:34.736403Z"
    },
    "collapsed": true
   },
   "outputs": [],
   "source": [
    "def get_sentiment_from_score(polarity, subjectivity, thr=0.05):\n",
    "    sentiment = ['Neutral' if subjectivity < thr\n",
    "                 else 'Positive' if polarity > thr\n",
    "                 else 'Negative' if polarity < -thr \n",
    "                 else 'Neutral']\n",
    "    return sentiment[0]"
   ]
  },
  {
   "cell_type": "markdown",
   "metadata": {},
   "source": [
    "## Load the data"
   ]
  },
  {
   "cell_type": "code",
   "execution_count": 3,
   "metadata": {
    "ExecuteTime": {
     "end_time": "2018-08-15T13:02:34.965774Z",
     "start_time": "2018-08-15T13:02:34.741870Z"
    }
   },
   "outputs": [
    {
     "data": {
      "text/plain": [
       "'Nice and friendly place with excellent food and friendly and helpful staff. You need a car though. The children wants to go back! Playground and animals entertained them and they felt like at home. I also recommend the dinner! Great value for the price! This is the worst place you can ever imagine.'"
      ]
     },
     "execution_count": 3,
     "metadata": {},
     "output_type": "execute_result"
    }
   ],
   "source": [
    "doc = \"Nice and friendly place with excellent food and friendly and helpful staff. You need a car though. The children wants to go back! Playground and animals entertained them and they felt like at home. I also recommend the dinner! Great value for the price! This is the worst place you can ever imagine.\"\n",
    "doc"
   ]
  },
  {
   "cell_type": "markdown",
   "metadata": {},
   "source": [
    "## Preprocess"
   ]
  },
  {
   "cell_type": "markdown",
   "metadata": {},
   "source": [
    "### Initialize textblob"
   ]
  },
  {
   "cell_type": "code",
   "execution_count": 4,
   "metadata": {
    "ExecuteTime": {
     "end_time": "2018-08-15T13:02:35.143357Z",
     "start_time": "2018-08-15T13:02:34.968000Z"
    }
   },
   "outputs": [
    {
     "name": "stdout",
     "output_type": "stream",
     "text": [
      "['__add__', '__class__', '__contains__', '__delattr__', '__dict__', '__dir__', '__doc__', '__eq__', '__format__', '__ge__', '__getattribute__', '__getitem__', '__gt__', '__hash__', '__init__', '__init_subclass__', '__iter__', '__le__', '__len__', '__lt__', '__module__', '__ne__', '__new__', '__reduce__', '__reduce_ex__', '__repr__', '__setattr__', '__sizeof__', '__str__', '__subclasshook__', '__weakref__', '_cmpkey', '_compare', '_create_sentence_objects', '_strkey', 'analyzer', 'classifier', 'classify', 'correct', 'detect_language', 'ends_with', 'endswith', 'find', 'format', 'index', 'join', 'json', 'lower', 'ngrams', 'noun_phrases', 'np_counts', 'np_extractor', 'parse', 'parser', 'polarity', 'pos_tagger', 'pos_tags', 'raw', 'raw_sentences', 'replace', 'rfind', 'rindex', 'sentences', 'sentiment', 'sentiment_assessments', 'serialized', 'split', 'starts_with', 'startswith', 'string', 'strip', 'stripped', 'subjectivity', 'tags', 'title', 'to_json', 'tokenize', 'tokenizer', 'tokens', 'translate', 'translator', 'upper', 'word_counts', 'words']\n"
     ]
    }
   ],
   "source": [
    "analysis = TextBlob(doc)\n",
    "print(dir(analysis))"
   ]
  },
  {
   "cell_type": "markdown",
   "metadata": {},
   "source": [
    "### Some cool stuff"
   ]
  },
  {
   "cell_type": "markdown",
   "metadata": {},
   "source": [
    "#### Language detection / translation"
   ]
  },
  {
   "cell_type": "code",
   "execution_count": 5,
   "metadata": {
    "ExecuteTime": {
     "end_time": "2018-08-15T13:02:36.021320Z",
     "start_time": "2018-08-15T13:02:35.146489Z"
    }
   },
   "outputs": [
    {
     "data": {
      "text/plain": [
       "'en'"
      ]
     },
     "execution_count": 5,
     "metadata": {},
     "output_type": "execute_result"
    }
   ],
   "source": [
    "analysis.detect_language()"
   ]
  },
  {
   "cell_type": "code",
   "execution_count": 6,
   "metadata": {
    "ExecuteTime": {
     "end_time": "2018-08-15T13:02:36.044602Z",
     "start_time": "2018-08-15T13:02:36.032314Z"
    }
   },
   "outputs": [],
   "source": [
    "#analysis.translate(to='ar')"
   ]
  },
  {
   "cell_type": "markdown",
   "metadata": {},
   "source": [
    "#### Part of speech tagging\n",
    "\n",
    "POS tag list:\n",
    "- CC  coordinating conjunction\n",
    "- CD  cardinal digit\n",
    "- DT  determiner\n",
    "- EX  existential there (like: \"there is\" ... think of it like \"there exists\")\n",
    "- FW  foreign word\n",
    "- IN  preposition/subordinating conjunction\n",
    "- JJ  adjective   'big'\n",
    "- JJR adjective, comparative  'bigger'\n",
    "- JJS adjective, superlative  'biggest'\n",
    "- LS  list marker 1)\n",
    "- MD  modal   could, will\n",
    "- NN  noun, singular 'desk'\n",
    "- NNS noun plural 'desks'\n",
    "- NNP proper noun, singular   'Harrison'\n",
    "- NNPS    proper noun, plural 'Americans'\n",
    "- PDT predeterminer   'all the kids'\n",
    "- POS possessive ending   parent\\'s\n",
    "- PRP personal pronoun    I, he, she\n",
    "- RB  adverb  very, silently,\n",
    "- RBR adverb, comparative better\n",
    "- RBS adverb, superlative best\n",
    "- RP  particle    give up\n",
    "- TO  to  go 'to' the store.\n",
    "- UH  interjection    errrrrrrrm\n",
    "- VB  verb, base form take\n",
    "- VBD verb, past tense    took\n",
    "- VBG verb, gerund/present participle taking\n",
    "- VBN verb, past participle   taken\n",
    "- VBP verb, sing. present, non-3d take\n",
    "- VBZ verb, 3rd person sing. present  takes\n",
    "- WDT wh-determiner   which\n",
    "- WP  wh-pronoun  who, what\n",
    "- WRB wh-abverb   where, when\n",
    "- PRP$    possessive pronoun  my, his, hers$\n",
    "- WP$ possessive wh-pronoun   whose$"
   ]
  },
  {
   "cell_type": "code",
   "execution_count": 7,
   "metadata": {
    "ExecuteTime": {
     "end_time": "2018-08-15T13:02:36.309799Z",
     "start_time": "2018-08-15T13:02:36.049258Z"
    }
   },
   "outputs": [
    {
     "name": "stdout",
     "output_type": "stream",
     "text": [
      "[('Nice', 'NNP'), ('and', 'CC'), ('friendly', 'JJ'), ('place', 'NN'), ('with', 'IN'), ('excellent', 'JJ'), ('food', 'NN'), ('and', 'CC'), ('friendly', 'JJ'), ('and', 'CC'), ('helpful', 'JJ'), ('staff', 'NN'), ('You', 'PRP'), ('need', 'VBP'), ('a', 'DT'), ('car', 'NN'), ('though', 'NN'), ('The', 'DT'), ('children', 'NNS'), ('wants', 'VBZ'), ('to', 'TO'), ('go', 'VB'), ('back', 'RB'), ('Playground', 'NN'), ('and', 'CC'), ('animals', 'NNS'), ('entertained', 'VBD'), ('them', 'PRP'), ('and', 'CC'), ('they', 'PRP'), ('felt', 'VBD'), ('like', 'IN'), ('at', 'IN'), ('home', 'NN'), ('I', 'PRP'), ('also', 'RB'), ('recommend', 'VBP'), ('the', 'DT'), ('dinner', 'NN'), ('Great', 'NNP'), ('value', 'NN'), ('for', 'IN'), ('the', 'DT'), ('price', 'NN'), ('This', 'DT'), ('is', 'VBZ'), ('the', 'DT'), ('worst', 'JJS'), ('place', 'NN'), ('you', 'PRP'), ('can', 'MD'), ('ever', 'RB'), ('imagine', 'VB')]\n"
     ]
    }
   ],
   "source": [
    "print(analysis.tags)"
   ]
  },
  {
   "cell_type": "markdown",
   "metadata": {},
   "source": [
    "#### Lemmatize"
   ]
  },
  {
   "cell_type": "markdown",
   "metadata": {},
   "source": [
    "##### Noun phrase extraction"
   ]
  },
  {
   "cell_type": "code",
   "execution_count": 8,
   "metadata": {
    "ExecuteTime": {
     "end_time": "2018-08-15T13:02:41.778730Z",
     "start_time": "2018-08-15T13:02:36.311711Z"
    }
   },
   "outputs": [
    {
     "name": "stdout",
     "output_type": "stream",
     "text": [
      "nice\n",
      "friendly place\n",
      "excellent food\n",
      "helpful staff\n",
      "playground\n",
      "great value\n"
     ]
    }
   ],
   "source": [
    "for np in analysis.noun_phrases:\n",
    "    print(np.lemmatize())"
   ]
  },
  {
   "cell_type": "markdown",
   "metadata": {},
   "source": [
    "##### Short summary"
   ]
  },
  {
   "cell_type": "code",
   "execution_count": 9,
   "metadata": {
    "ExecuteTime": {
     "end_time": "2018-08-15T13:02:41.783874Z",
     "start_time": "2018-08-15T13:02:41.780534Z"
    },
    "collapsed": true
   },
   "outputs": [],
   "source": [
    "nouns = list()\n",
    "for word, tag in analysis.tags:\n",
    "    if tag == 'NN':\n",
    "        nouns.append(word.lemmatize())"
   ]
  },
  {
   "cell_type": "code",
   "execution_count": 10,
   "metadata": {
    "ExecuteTime": {
     "end_time": "2018-08-15T13:02:41.977075Z",
     "start_time": "2018-08-15T13:02:41.785279Z"
    }
   },
   "outputs": [
    {
     "name": "stdout",
     "output_type": "stream",
     "text": [
      "This text is about...\n",
      "cars\n",
      "prices\n",
      "dinners\n"
     ]
    }
   ],
   "source": [
    "print (\"This text is about...\")\n",
    "for item in random.sample(nouns, 3):\n",
    "    word = Word(item)\n",
    "    print(word.pluralize())"
   ]
  },
  {
   "cell_type": "markdown",
   "metadata": {},
   "source": [
    "#### Spelling correction"
   ]
  },
  {
   "cell_type": "code",
   "execution_count": 11,
   "metadata": {
    "ExecuteTime": {
     "end_time": "2018-08-15T13:02:42.639512Z",
     "start_time": "2018-08-15T13:02:41.981102Z"
    }
   },
   "outputs": [
    {
     "data": {
      "text/plain": [
       "TextBlob(\"Vice and friendly place with excellent food and friendly and helpful staff. You need a car though. The children wants to go back! Playground and animals entertained them and they felt like at home. I also recommend the dinner! Great value for the price! His is the worst place you can ever imagine.\")"
      ]
     },
     "execution_count": 11,
     "metadata": {},
     "output_type": "execute_result"
    }
   ],
   "source": [
    "analysis.correct()"
   ]
  },
  {
   "cell_type": "markdown",
   "metadata": {
    "ExecuteTime": {
     "end_time": "2018-08-15T03:58:32.864914Z",
     "start_time": "2018-08-15T03:58:32.847342Z"
    }
   },
   "source": [
    "## Sentiments"
   ]
  },
  {
   "cell_type": "markdown",
   "metadata": {},
   "source": [
    "### Overall sentiment"
   ]
  },
  {
   "cell_type": "code",
   "execution_count": 13,
   "metadata": {
    "ExecuteTime": {
     "end_time": "2018-08-15T13:03:36.426992Z",
     "start_time": "2018-08-15T13:03:36.409375Z"
    }
   },
   "outputs": [
    {
     "name": "stdout",
     "output_type": "stream",
     "text": [
      "Sentiment(polarity=0.31875000000000003, subjectivity=0.60625) : Positive\n"
     ]
    }
   ],
   "source": [
    "print(analysis.sentiment, \":\", \n",
    "      get_sentiment_from_score(analysis.sentiment.polarity, analysis.sentiment.subjectivity, thr=0.05))"
   ]
  },
  {
   "cell_type": "markdown",
   "metadata": {},
   "source": [
    "### Sentence-wise sentiment"
   ]
  },
  {
   "cell_type": "code",
   "execution_count": 14,
   "metadata": {
    "ExecuteTime": {
     "end_time": "2018-08-15T13:03:40.943546Z",
     "start_time": "2018-08-15T13:03:40.920788Z"
    }
   },
   "outputs": [
    {
     "name": "stdout",
     "output_type": "stream",
     "text": [
      "Nice and friendly place with excellent food and friendly and helpful staff. : Sentiment(polarity=0.5875, subjectivity=0.75) : Positive\n",
      "You need a car though. : Sentiment(polarity=0.0, subjectivity=0.0) : Neutral\n",
      "The children wants to go back! : Sentiment(polarity=0.1, subjectivity=0.05) : Positive\n",
      "Playground and animals entertained them and they felt like at home. : Sentiment(polarity=0.0, subjectivity=0.0) : Neutral\n",
      "I also recommend the dinner! : Sentiment(polarity=0.0, subjectivity=0.0) : Neutral\n",
      "Great value for the price! : Sentiment(polarity=1.0, subjectivity=0.75) : Positive\n",
      "This is the worst place you can ever imagine. : Sentiment(polarity=-1.0, subjectivity=1.0) : Negative\n"
     ]
    }
   ],
   "source": [
    "sentences = nltk.sent_tokenize(doc)\n",
    "\n",
    "for sentence in sentences:\n",
    "    analysis = TextBlob(sentence)\n",
    "    print(sentence, \":\", analysis.sentiment, \":\", \n",
    "      get_sentiment_from_score(analysis.sentiment.polarity, analysis.sentiment.subjectivity, thr=0.05)) "
   ]
  },
  {
   "cell_type": "code",
   "execution_count": null,
   "metadata": {
    "collapsed": true
   },
   "outputs": [],
   "source": []
  }
 ],
 "metadata": {
  "kernelspec": {
   "display_name": "Python 3",
   "language": "python",
   "name": "python3"
  },
  "language_info": {
   "codemirror_mode": {
    "name": "ipython",
    "version": 3
   },
   "file_extension": ".py",
   "mimetype": "text/x-python",
   "name": "python",
   "nbconvert_exporter": "python",
   "pygments_lexer": "ipython3",
   "version": "3.6.1"
  },
  "toc": {
   "nav_menu": {},
   "number_sections": true,
   "sideBar": true,
   "skip_h1_title": false,
   "title_cell": "Table of Contents",
   "title_sidebar": "Contents",
   "toc_cell": false,
   "toc_position": {
    "height": "calc(100% - 180px)",
    "left": "10px",
    "top": "150px",
    "width": "230px"
   },
   "toc_section_display": true,
   "toc_window_display": true
  },
  "varInspector": {
   "cols": {
    "lenName": 16,
    "lenType": 16,
    "lenVar": 40
   },
   "kernels_config": {
    "python": {
     "delete_cmd_postfix": "",
     "delete_cmd_prefix": "del ",
     "library": "var_list.py",
     "varRefreshCmd": "print(var_dic_list())"
    },
    "r": {
     "delete_cmd_postfix": ") ",
     "delete_cmd_prefix": "rm(",
     "library": "var_list.r",
     "varRefreshCmd": "cat(var_dic_list()) "
    }
   },
   "types_to_exclude": [
    "module",
    "function",
    "builtin_function_or_method",
    "instance",
    "_Feature"
   ],
   "window_display": false
  }
 },
 "nbformat": 4,
 "nbformat_minor": 2
}
